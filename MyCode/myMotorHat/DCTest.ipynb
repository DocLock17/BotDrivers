{
 "cells": [
  {
   "cell_type": "code",
   "execution_count": 1,
   "metadata": {},
   "outputs": [],
   "source": [
    "#!/usr/bin/python\n",
    "from Raspi_MotorHAT import Raspi_MotorHAT, Raspi_DCMotor\n",
    "\n",
    "import time\n",
    "import atexit"
   ]
  },
  {
   "cell_type": "code",
   "execution_count": 2,
   "metadata": {},
   "outputs": [
    {
     "data": {
      "text/plain": [
       "<function __main__.turnOffMotors()>"
      ]
     },
     "execution_count": 2,
     "metadata": {},
     "output_type": "execute_result"
    }
   ],
   "source": [
    "# create a default object, no changes to I2C address or frequency\n",
    "mh = Raspi_MotorHAT(addr=0x6f)\n",
    "\n",
    "# recommended for auto-disabling motors on shutdown!\n",
    "def turnOffMotors():\n",
    "\tmh.getMotor(1).run(Raspi_MotorHAT.RELEASE)\n",
    "\tmh.getMotor(2).run(Raspi_MotorHAT.RELEASE)\n",
    "\tmh.getMotor(3).run(Raspi_MotorHAT.RELEASE)\n",
    "\tmh.getMotor(4).run(Raspi_MotorHAT.RELEASE)\n",
    "\n",
    "atexit.register(turnOffMotors)"
   ]
  },
  {
   "cell_type": "code",
   "execution_count": 3,
   "metadata": {},
   "outputs": [],
   "source": [
    "################################# DC motor test!\n",
    "myMotor = mh.getMotor(3)\n",
    "\n",
    "# set the speed to start, from 0 (off) to 255 (max speed)\n",
    "myMotor.setSpeed(150)\n",
    "myMotor.run(Raspi_MotorHAT.FORWARD);\n",
    "# turn on motor\n",
    "myMotor.run(Raspi_MotorHAT.RELEASE);"
   ]
  },
  {
   "cell_type": "code",
   "execution_count": 4,
   "metadata": {},
   "outputs": [
    {
     "name": "stdout",
     "output_type": "stream",
     "text": [
      "Forward! \n",
      "\tSpeed up...\n",
      "\tSlow down...\n",
      "Backward! \n",
      "\tSpeed up...\n",
      "\tSlow down...\n",
      "Release\n",
      "Forward! \n",
      "\tSpeed up...\n",
      "\tSlow down...\n",
      "Backward! \n",
      "\tSpeed up...\n",
      "\tSlow down...\n",
      "Release\n",
      "Forward! \n",
      "\tSpeed up...\n",
      "\tSlow down...\n",
      "Backward! \n",
      "\tSpeed up...\n",
      "\tSlow down...\n",
      "Release\n",
      "Forward! \n",
      "\tSpeed up...\n",
      "\tSlow down...\n",
      "Backward! \n",
      "\tSpeed up...\n"
     ]
    },
    {
     "ename": "KeyboardInterrupt",
     "evalue": "",
     "output_type": "error",
     "traceback": [
      "\u001b[0;31m---------------------------------------------------------------------------\u001b[0m",
      "\u001b[0;31mKeyboardInterrupt\u001b[0m                         Traceback (most recent call last)",
      "\u001b[0;32m<ipython-input-4-148069f6fc07>\u001b[0m in \u001b[0;36m<module>\u001b[0;34m\u001b[0m\n\u001b[1;32m     19\u001b[0m         \u001b[0;32mfor\u001b[0m \u001b[0mi\u001b[0m \u001b[0;32min\u001b[0m \u001b[0mrange\u001b[0m\u001b[0;34m(\u001b[0m\u001b[0;36m255\u001b[0m\u001b[0;34m)\u001b[0m\u001b[0;34m:\u001b[0m\u001b[0;34m\u001b[0m\u001b[0;34m\u001b[0m\u001b[0m\n\u001b[1;32m     20\u001b[0m                 \u001b[0mmyMotor\u001b[0m\u001b[0;34m.\u001b[0m\u001b[0msetSpeed\u001b[0m\u001b[0;34m(\u001b[0m\u001b[0mi\u001b[0m\u001b[0;34m)\u001b[0m\u001b[0;34m\u001b[0m\u001b[0;34m\u001b[0m\u001b[0m\n\u001b[0;32m---> 21\u001b[0;31m                 \u001b[0mtime\u001b[0m\u001b[0;34m.\u001b[0m\u001b[0msleep\u001b[0m\u001b[0;34m(\u001b[0m\u001b[0;36m0.01\u001b[0m\u001b[0;34m)\u001b[0m\u001b[0;34m\u001b[0m\u001b[0;34m\u001b[0m\u001b[0m\n\u001b[0m\u001b[1;32m     22\u001b[0m \u001b[0;34m\u001b[0m\u001b[0m\n\u001b[1;32m     23\u001b[0m         \u001b[0mprint\u001b[0m \u001b[0;34m(\u001b[0m\u001b[0;34m\"\\tSlow down...\"\u001b[0m\u001b[0;34m)\u001b[0m\u001b[0;34m\u001b[0m\u001b[0;34m\u001b[0m\u001b[0m\n",
      "\u001b[0;31mKeyboardInterrupt\u001b[0m: "
     ]
    }
   ],
   "source": [
    "while (True):\n",
    "\tprint (\"Forward! \")\n",
    "\tmyMotor.run(Raspi_MotorHAT.FORWARD)\n",
    "\n",
    "\tprint (\"\\tSpeed up...\")\n",
    "\tfor i in range(255):\n",
    "\t\tmyMotor.setSpeed(i)\n",
    "\t\ttime.sleep(0.01)\n",
    "\n",
    "\tprint (\"\\tSlow down...\")\n",
    "\tfor i in reversed(range(255)):\n",
    "\t\tmyMotor.setSpeed(i)\n",
    "\t\ttime.sleep(0.01)\n",
    "\n",
    "\tprint (\"Backward! \")\n",
    "\tmyMotor.run(Raspi_MotorHAT.BACKWARD)\n",
    "\n",
    "\tprint (\"\\tSpeed up...\")\n",
    "\tfor i in range(255):\n",
    "\t\tmyMotor.setSpeed(i)\n",
    "\t\ttime.sleep(0.01)\n",
    "\n",
    "\tprint (\"\\tSlow down...\")\n",
    "\tfor i in reversed(range(255)):\n",
    "\t\tmyMotor.setSpeed(i)\n",
    "\t\ttime.sleep(0.01)\n",
    "\n",
    "\tprint (\"Release\")\n",
    "\tmyMotor.run(Raspi_MotorHAT.RELEASE)\n",
    "\ttime.sleep(1.0)\n",
    "    "
   ]
  },
  {
   "cell_type": "code",
   "execution_count": 6,
   "metadata": {},
   "outputs": [
    {
     "data": {
      "text/plain": [
       "<function __main__.turnOffMotors()>"
      ]
     },
     "execution_count": 6,
     "metadata": {},
     "output_type": "execute_result"
    }
   ],
   "source": [
    "# turn off motor\n",
    "atexit.register(turnOffMotors)"
   ]
  },
  {
   "cell_type": "code",
   "execution_count": null,
   "metadata": {},
   "outputs": [],
   "source": []
  }
 ],
 "metadata": {
  "kernelspec": {
   "display_name": "Python 3 (ipykernel)",
   "language": "python",
   "name": "python3"
  },
  "language_info": {
   "codemirror_mode": {
    "name": "ipython",
    "version": 3
   },
   "file_extension": ".py",
   "mimetype": "text/x-python",
   "name": "python",
   "nbconvert_exporter": "python",
   "pygments_lexer": "ipython3",
   "version": "3.7.3"
  }
 },
 "nbformat": 4,
 "nbformat_minor": 4
}
