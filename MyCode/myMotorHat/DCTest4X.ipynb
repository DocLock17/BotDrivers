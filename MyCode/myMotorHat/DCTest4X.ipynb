{
 "cells": [
  {
   "cell_type": "code",
   "execution_count": 1,
   "metadata": {},
   "outputs": [],
   "source": [
    "#!/usr/bin/python\n",
    "from Raspi_MotorHAT import Raspi_MotorHAT, Raspi_DCMotor\n",
    "\n",
    "import time\n",
    "import atexit"
   ]
  },
  {
   "cell_type": "code",
   "execution_count": 2,
   "metadata": {},
   "outputs": [
    {
     "data": {
      "text/plain": [
       "<function __main__.turnOffMotors()>"
      ]
     },
     "execution_count": 2,
     "metadata": {},
     "output_type": "execute_result"
    }
   ],
   "source": [
    "# create a default object, no changes to I2C address or frequency\n",
    "mh = Raspi_MotorHAT(addr=0x6f)\n",
    "\n",
    "# recommended for auto-disabling motors on shutdown!\n",
    "def turnOffMotors():\n",
    "\tmh.getMotor(1).run(Raspi_MotorHAT.RELEASE)\n",
    "\tmh.getMotor(2).run(Raspi_MotorHAT.RELEASE)\n",
    "\tmh.getMotor(3).run(Raspi_MotorHAT.RELEASE)\n",
    "\tmh.getMotor(4).run(Raspi_MotorHAT.RELEASE)\n",
    "\n",
    "atexit.register(turnOffMotors)"
   ]
  },
  {
   "cell_type": "code",
   "execution_count": 3,
   "metadata": {},
   "outputs": [],
   "source": [
    "################################# DC motor test!\n",
    "myMotor1 = mh.getMotor(1)\n",
    "myMotor2 = mh.getMotor(2)\n",
    "myMotor3 = mh.getMotor(3)\n",
    "myMotor4 = mh.getMotor(4)\n",
    "\n",
    "# set the speed to start, from 0 (off) to 255 (max speed)\n",
    "myMotor1.setSpeed(150)\n",
    "myMotor2.setSpeed(150)\n",
    "myMotor3.setSpeed(150)\n",
    "myMotor4.setSpeed(150)\n",
    "\n",
    "myMotor1.run(Raspi_MotorHAT.FORWARD);\n",
    "myMotor2.run(Raspi_MotorHAT.FORWARD);\n",
    "myMotor3.run(Raspi_MotorHAT.FORWARD);\n",
    "myMotor4.run(Raspi_MotorHAT.FORWARD);\n",
    "\n",
    "# turn on motor\n",
    "myMotor1.run(Raspi_MotorHAT.RELEASE);\n",
    "myMotor2.run(Raspi_MotorHAT.RELEASE);\n",
    "myMotor3.run(Raspi_MotorHAT.RELEASE);\n",
    "myMotor4.run(Raspi_MotorHAT.RELEASE);\n"
   ]
  },
  {
   "cell_type": "code",
   "execution_count": 6,
   "metadata": {},
   "outputs": [
    {
     "name": "stdout",
     "output_type": "stream",
     "text": [
      "Forward! \n",
      "\tSpeed up...\n",
      "\tSlow down...\n",
      "Backward! \n",
      "\tSpeed up...\n",
      "\tSlow down...\n",
      "Release\n",
      "Forward! \n",
      "\tSpeed up...\n",
      "\tSlow down...\n",
      "Backward! \n",
      "\tSpeed up...\n",
      "\tSlow down...\n",
      "Release\n",
      "Forward! \n",
      "\tSpeed up...\n",
      "\tSlow down...\n",
      "Backward! \n",
      "\tSpeed up...\n",
      "\tSlow down...\n",
      "Release\n",
      "Forward! \n",
      "\tSpeed up...\n",
      "\tSlow down...\n",
      "Backward! \n",
      "\tSpeed up...\n",
      "\tSlow down...\n",
      "Release\n",
      "Forward! \n",
      "\tSpeed up...\n",
      "\tSlow down...\n",
      "Backward! \n",
      "\tSpeed up...\n",
      "\tSlow down...\n",
      "Release\n",
      "Forward! \n",
      "\tSpeed up...\n",
      "\tSlow down...\n",
      "Backward! \n",
      "\tSpeed up...\n",
      "\tSlow down...\n",
      "Release\n",
      "Forward! \n",
      "\tSpeed up...\n"
     ]
    },
    {
     "ename": "KeyboardInterrupt",
     "evalue": "",
     "output_type": "error",
     "traceback": [
      "\u001b[0;31m---------------------------------------------------------------------------\u001b[0m",
      "\u001b[0;31mKeyboardInterrupt\u001b[0m                         Traceback (most recent call last)",
      "\u001b[0;32m<ipython-input-6-e335a996c23a>\u001b[0m in \u001b[0;36m<module>\u001b[0;34m\u001b[0m\n\u001b[1;32m     12\u001b[0m         \u001b[0mmyMotor3\u001b[0m\u001b[0;34m.\u001b[0m\u001b[0msetSpeed\u001b[0m\u001b[0;34m(\u001b[0m\u001b[0mi\u001b[0m\u001b[0;34m)\u001b[0m\u001b[0;34m\u001b[0m\u001b[0;34m\u001b[0m\u001b[0m\n\u001b[1;32m     13\u001b[0m         \u001b[0mmyMotor4\u001b[0m\u001b[0;34m.\u001b[0m\u001b[0msetSpeed\u001b[0m\u001b[0;34m(\u001b[0m\u001b[0mi\u001b[0m\u001b[0;34m)\u001b[0m\u001b[0;34m\u001b[0m\u001b[0;34m\u001b[0m\u001b[0m\n\u001b[0;32m---> 14\u001b[0;31m         \u001b[0mtime\u001b[0m\u001b[0;34m.\u001b[0m\u001b[0msleep\u001b[0m\u001b[0;34m(\u001b[0m\u001b[0;36m0.01\u001b[0m\u001b[0;34m)\u001b[0m\u001b[0;34m\u001b[0m\u001b[0;34m\u001b[0m\u001b[0m\n\u001b[0m\u001b[1;32m     15\u001b[0m \u001b[0;34m\u001b[0m\u001b[0m\n\u001b[1;32m     16\u001b[0m     \u001b[0mprint\u001b[0m \u001b[0;34m(\u001b[0m\u001b[0;34m\"\\tSlow down...\"\u001b[0m\u001b[0;34m)\u001b[0m\u001b[0;34m\u001b[0m\u001b[0;34m\u001b[0m\u001b[0m\n",
      "\u001b[0;31mKeyboardInterrupt\u001b[0m: "
     ]
    }
   ],
   "source": [
    "while (True):\n",
    "    print (\"Forward! \")\n",
    "    myMotor1.run(Raspi_MotorHAT.FORWARD)\n",
    "    myMotor2.run(Raspi_MotorHAT.FORWARD)\n",
    "    myMotor3.run(Raspi_MotorHAT.FORWARD)\n",
    "    myMotor4.run(Raspi_MotorHAT.FORWARD)\n",
    "\n",
    "    print (\"\\tSpeed up...\")\n",
    "    for i in range(255):\n",
    "        myMotor1.setSpeed(i)\n",
    "        myMotor2.setSpeed(i)\n",
    "        myMotor3.setSpeed(i)\n",
    "        myMotor4.setSpeed(i)\n",
    "        time.sleep(0.01)\n",
    "\n",
    "    print (\"\\tSlow down...\")\n",
    "    for i in reversed(range(255)):\n",
    "        myMotor1.setSpeed(i)\n",
    "        myMotor2.setSpeed(i)\n",
    "        myMotor3.setSpeed(i)\n",
    "        myMotor4.setSpeed(i)\n",
    "        time.sleep(0.01)\n",
    "\n",
    "    print (\"Backward! \")\n",
    "    myMotor1.run(Raspi_MotorHAT.BACKWARD)\n",
    "    myMotor2.run(Raspi_MotorHAT.BACKWARD)\n",
    "    myMotor3.run(Raspi_MotorHAT.BACKWARD)\n",
    "    myMotor4.run(Raspi_MotorHAT.BACKWARD)\n",
    "\n",
    "    print (\"\\tSpeed up...\")\n",
    "    for i in range(255):\n",
    "        myMotor1.setSpeed(i)\n",
    "        myMotor2.setSpeed(i)\n",
    "        myMotor3.setSpeed(i)\n",
    "        myMotor4.setSpeed(i)\n",
    "        time.sleep(0.01)\n",
    "\n",
    "    print (\"\\tSlow down...\")\n",
    "    for i in reversed(range(255)):\n",
    "        myMotor1.setSpeed(i)\n",
    "        myMotor2.setSpeed(i)\n",
    "        myMotor3.setSpeed(i)\n",
    "        myMotor4.setSpeed(i)\n",
    "        time.sleep(0.01)\n",
    "\n",
    "    print (\"Release\")\n",
    "    myMotor1.run(Raspi_MotorHAT.RELEASE)\n",
    "    myMotor2.run(Raspi_MotorHAT.RELEASE)\n",
    "    myMotor3.run(Raspi_MotorHAT.RELEASE)\n",
    "    myMotor4.run(Raspi_MotorHAT.RELEASE)\n",
    "    time.sleep(1.0)\n",
    "    "
   ]
  },
  {
   "cell_type": "code",
   "execution_count": 8,
   "metadata": {},
   "outputs": [],
   "source": [
    "# turn off motor\n",
    "turnOffMotors()"
   ]
  },
  {
   "cell_type": "code",
   "execution_count": null,
   "metadata": {},
   "outputs": [],
   "source": []
  }
 ],
 "metadata": {
  "kernelspec": {
   "display_name": "Python 3 (ipykernel)",
   "language": "python",
   "name": "python3"
  },
  "language_info": {
   "codemirror_mode": {
    "name": "ipython",
    "version": 3
   },
   "file_extension": ".py",
   "mimetype": "text/x-python",
   "name": "python",
   "nbconvert_exporter": "python",
   "pygments_lexer": "ipython3",
   "version": "3.7.3"
  }
 },
 "nbformat": 4,
 "nbformat_minor": 4
}
